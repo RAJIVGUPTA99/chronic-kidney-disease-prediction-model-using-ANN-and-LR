{
 "cells": [
  {
   "cell_type": "code",
   "execution_count": 1,
   "metadata": {},
   "outputs": [],
   "source": [
    "# Description: Program to classify patients having chronic kidney disease or not using Artificial Neural Network and LR"
   ]
  },
  {
   "cell_type": "code",
   "execution_count": 2,
   "metadata": {
    "scrolled": false
   },
   "outputs": [
    {
     "name": "stderr",
     "output_type": "stream",
     "text": [
      "Using TensorFlow backend.\n"
     ]
    }
   ],
   "source": [
    "import glob\n",
    "import tensorflow as tf\n",
    "from tensorflow import keras\n",
    "from tensorflow.keras import layers\n",
    "from tensorflow.keras import optimizers\n",
    "from tensorflow.keras.models import Sequential\n",
    "from tensorflow.keras.layers import Dense\n",
    "import numpy as np\n",
    "import pandas as pd\n",
    "from sklearn.model_selection import train_test_split\n",
    "from sklearn.preprocessing import LabelEncoder, MinMaxScaler\n",
    "import matplotlib.pyplot as plt\n",
    "import keras as k\n",
    "import seaborn as sns\n",
    "from sklearn.linear_model import LogisticRegression\n",
    "from sklearn.metrics import accuracy_score, confusion_matrix, classification_report"
   ]
  },
  {
   "cell_type": "code",
   "execution_count": 3,
   "metadata": {},
   "outputs": [],
   "source": [
    "data= pd.read_csv('kidney_disease.csv')"
   ]
  },
  {
   "cell_type": "code",
   "execution_count": 4,
   "metadata": {},
   "outputs": [
    {
     "data": {
      "text/plain": [
       "Index(['id', 'age', 'bp', 'sg', 'al', 'su', 'rbc', 'pc', 'pcc', 'ba', 'bgr',\n",
       "       'bu', 'sc', 'sod', 'pot', 'hemo', 'pcv', 'wc', 'rc', 'htn', 'dm', 'cad',\n",
       "       'appet', 'pe', 'ane', 'class'],\n",
       "      dtype='object')"
      ]
     },
     "execution_count": 4,
     "metadata": {},
     "output_type": "execute_result"
    }
   ],
   "source": [
    "data.columns"
   ]
  },
  {
   "cell_type": "code",
   "execution_count": 5,
   "metadata": {},
   "outputs": [
    {
     "name": "stdout",
     "output_type": "stream",
     "text": [
      "      id   age    bp     sg   al   su     rbc        pc         pcc  \\\n",
      "0      0  48.0  80.0  1.020  1.0  0.0     NaN    normal  notpresent   \n",
      "1      1   7.0  50.0  1.020  4.0  0.0     NaN    normal  notpresent   \n",
      "2      2  62.0  80.0  1.010  2.0  3.0  normal    normal  notpresent   \n",
      "3      3  48.0  70.0  1.005  4.0  0.0  normal  abnormal     present   \n",
      "4      4  51.0  80.0  1.010  2.0  0.0  normal    normal  notpresent   \n",
      "..   ...   ...   ...    ...  ...  ...     ...       ...         ...   \n",
      "395  395  55.0  80.0  1.020  0.0  0.0  normal    normal  notpresent   \n",
      "396  396  42.0  70.0  1.025  0.0  0.0  normal    normal  notpresent   \n",
      "397  397  12.0  80.0  1.020  0.0  0.0  normal    normal  notpresent   \n",
      "398  398  17.0  60.0  1.025  0.0  0.0  normal    normal  notpresent   \n",
      "399  399  58.0  80.0  1.025  0.0  0.0  normal    normal  notpresent   \n",
      "\n",
      "             ba  ...  pcv    wc   rc  htn   dm  cad appet   pe  ane   class  \n",
      "0    notpresent  ...   44  7800  5.2  yes  yes   no  good   no   no     ckd  \n",
      "1    notpresent  ...   38  6000  NaN   no   no   no  good   no   no     ckd  \n",
      "2    notpresent  ...   31  7500  NaN   no  yes   no  poor   no  yes     ckd  \n",
      "3    notpresent  ...   32  6700  3.9  yes   no   no  poor  yes  yes     ckd  \n",
      "4    notpresent  ...   35  7300  4.6   no   no   no  good   no   no     ckd  \n",
      "..          ...  ...  ...   ...  ...  ...  ...  ...   ...  ...  ...     ...  \n",
      "395  notpresent  ...   47  6700  4.9   no   no   no  good   no   no  notckd  \n",
      "396  notpresent  ...   54  7800  6.2   no   no   no  good   no   no  notckd  \n",
      "397  notpresent  ...   49  6600  5.4   no   no   no  good   no   no  notckd  \n",
      "398  notpresent  ...   51  7200  5.9   no   no   no  good   no   no  notckd  \n",
      "399  notpresent  ...   53  6800  6.1   no   no   no  good   no   no  notckd  \n",
      "\n",
      "[400 rows x 26 columns]\n"
     ]
    }
   ],
   "source": [
    "print(data)"
   ]
  },
  {
   "cell_type": "code",
   "execution_count": 6,
   "metadata": {},
   "outputs": [
    {
     "name": "stdout",
     "output_type": "stream",
     "text": [
      "(400, 26)\n",
      "2\n"
     ]
    }
   ],
   "source": [
    "print(data.shape)\n",
    "print(data.ndim)"
   ]
  },
  {
   "cell_type": "code",
   "execution_count": 7,
   "metadata": {
    "scrolled": true
   },
   "outputs": [
    {
     "name": "stdout",
     "output_type": "stream",
     "text": [
      "               id         age          bp          sg          al          su  \\\n",
      "count  400.000000  391.000000  388.000000  353.000000  354.000000  351.000000   \n",
      "mean   199.500000   51.483376   76.469072    1.017408    1.016949    0.450142   \n",
      "std    115.614301   17.169714   13.683637    0.005717    1.352679    1.099191   \n",
      "min      0.000000    2.000000   50.000000    1.005000    0.000000    0.000000   \n",
      "25%     99.750000   42.000000   70.000000    1.010000    0.000000    0.000000   \n",
      "50%    199.500000   55.000000   80.000000    1.020000    0.000000    0.000000   \n",
      "75%    299.250000   64.500000   80.000000    1.020000    2.000000    0.000000   \n",
      "max    399.000000   90.000000  180.000000    1.025000    5.000000    5.000000   \n",
      "\n",
      "              bgr          bu          sc         sod         pot        hemo  \n",
      "count  356.000000  381.000000  383.000000  313.000000  312.000000  348.000000  \n",
      "mean   148.036517   57.425722    3.072454  137.528754    4.627244   12.526437  \n",
      "std     79.281714   50.503006    5.741126   10.408752    3.193904    2.912587  \n",
      "min     22.000000    1.500000    0.400000    4.500000    2.500000    3.100000  \n",
      "25%     99.000000   27.000000    0.900000  135.000000    3.800000   10.300000  \n",
      "50%    121.000000   42.000000    1.300000  138.000000    4.400000   12.650000  \n",
      "75%    163.000000   66.000000    2.800000  142.000000    4.900000   15.000000  \n",
      "max    490.000000  391.000000   76.000000  163.000000   47.000000   17.800000  \n"
     ]
    }
   ],
   "source": [
    "print(data.describe())"
   ]
  },
  {
   "cell_type": "code",
   "execution_count": 8,
   "metadata": {},
   "outputs": [
    {
     "data": {
      "image/png": "[encoded data removed]",
      "text/plain": [
       "<Figure size 432x288 with 2 Axes>"
      ]
     },
     "metadata": {
      "needs_background": "light"
     },
     "output_type": "display_data"
    }
   ],
   "source": [
    "sns.heatmap(data.isnull(),yticklabels = False, cmap='viridis');"
   ]
  },
  {
   "cell_type": "code",
   "execution_count": 9,
   "metadata": {},
   "outputs": [],
   "source": [
    "data = data.dropna(axis = 0)"
   ]
  },
  {
   "cell_type": "code",
   "execution_count": 10,
   "metadata": {},
   "outputs": [
    {
     "name": "stdout",
     "output_type": "stream",
     "text": [
      "(158, 26)\n"
     ]
    }
   ],
   "source": [
    "print(data.shape)"
   ]
  },
  {
   "cell_type": "code",
   "execution_count": 11,
   "metadata": {},
   "outputs": [],
   "source": [
    "for column in data.columns:\n",
    "    if data[column].dtype == np.number:\n",
    "        continue\n",
    "    data[column] = LabelEncoder().fit_transform(data[column])    "
   ]
  },
  {
   "cell_type": "code",
   "execution_count": 12,
   "metadata": {},
   "outputs": [
    {
     "name": "stdout",
     "output_type": "stream",
     "text": [
      "(158, 26)\n",
      "    id   age    bp     sg   al   su  rbc  pc  pcc  ba  ...  pcv  wc  rc  htn  \\\n",
      "3    0  48.0  70.0  1.005  4.0  0.0    1   0    1   0  ...   11  42  14    1   \n",
      "9    1  53.0  90.0  1.020  2.0  0.0    0   0    1   0  ...    8  11  12    1   \n",
      "11   2  63.0  70.0  1.010  3.0  0.0    0   0    1   0  ...   11  25  13    1   \n",
      "14   3  68.0  80.0  1.010  3.0  2.0    1   0    1   1  ...    0   8   2    1   \n",
      "20   4  61.0  80.0  1.015  2.0  0.0    0   0    0   0  ...    4  63   7    1   \n",
      "\n",
      "    dm  cad  appet  pe  ane  class  \n",
      "3    0    0      1   1    1      0  \n",
      "9    1    0      1   0    1      0  \n",
      "11   1    0      1   1    0      0  \n",
      "14   1    1      1   1    0      0  \n",
      "20   1    1      1   1    1      0  \n",
      "\n",
      "[5 rows x 26 columns]\n"
     ]
    }
   ],
   "source": [
    "print(data.shape)\n",
    "print(data.head())"
   ]
  },
  {
   "cell_type": "code",
   "execution_count": 13,
   "metadata": {},
   "outputs": [
    {
     "name": "stdout",
     "output_type": "stream",
     "text": [
      "               id         age          bp          sg          al          su  \\\n",
      "count  158.000000  158.000000  158.000000  158.000000  158.000000  158.000000   \n",
      "mean    78.500000   49.563291   74.050633    1.019873    0.797468    0.253165   \n",
      "std     45.754781   15.512244   11.175381    0.005499    1.413130    0.813397   \n",
      "min      0.000000    6.000000   50.000000    1.005000    0.000000    0.000000   \n",
      "25%     39.250000   39.250000   60.000000    1.020000    0.000000    0.000000   \n",
      "50%     78.500000   50.500000   80.000000    1.020000    0.000000    0.000000   \n",
      "75%    117.750000   60.000000   80.000000    1.025000    1.000000    0.000000   \n",
      "max    157.000000   83.000000  110.000000    1.025000    4.000000    5.000000   \n",
      "\n",
      "              rbc          pc         pcc          ba  ...         pcv  \\\n",
      "count  158.000000  158.000000  158.000000  158.000000  ...  158.000000   \n",
      "mean     0.886076    0.816456    0.088608    0.075949  ...   20.569620   \n",
      "std      0.318729    0.388343    0.285080    0.265759  ...    8.141556   \n",
      "min      0.000000    0.000000    0.000000    0.000000  ...    0.000000   \n",
      "25%      1.000000    1.000000    0.000000    0.000000  ...   17.250000   \n",
      "50%      1.000000    1.000000    0.000000    0.000000  ...   22.000000   \n",
      "75%      1.000000    1.000000    0.000000    0.000000  ...   26.750000   \n",
      "max      1.000000    1.000000    1.000000    1.000000  ...   33.000000   \n",
      "\n",
      "               wc          rc         htn          dm         cad       appet  \\\n",
      "count  158.000000  158.000000  158.000000  158.000000  158.000000  158.000000   \n",
      "mean    38.265823   23.145570    0.215190    0.177215    0.069620    0.120253   \n",
      "std     19.787861    9.459148    0.412261    0.383065    0.255315    0.326292   \n",
      "min      0.000000    0.000000    0.000000    0.000000    0.000000    0.000000   \n",
      "25%     24.000000   19.000000    0.000000    0.000000    0.000000    0.000000   \n",
      "50%     42.000000   23.500000    0.000000    0.000000    0.000000    0.000000   \n",
      "75%     53.000000   30.000000    0.000000    0.000000    0.000000    0.000000   \n",
      "max     70.000000   40.000000    1.000000    1.000000    1.000000    1.000000   \n",
      "\n",
      "               pe         ane       class  \n",
      "count  158.000000  158.000000  158.000000  \n",
      "mean     0.126582    0.101266    0.727848  \n",
      "std      0.333562    0.302640    0.446483  \n",
      "min      0.000000    0.000000    0.000000  \n",
      "25%      0.000000    0.000000    0.000000  \n",
      "50%      0.000000    0.000000    1.000000  \n",
      "75%      0.000000    0.000000    1.000000  \n",
      "max      1.000000    1.000000    1.000000  \n",
      "\n",
      "[8 rows x 26 columns]\n"
     ]
    }
   ],
   "source": [
    "print(data.describe())"
   ]
  },
  {
   "cell_type": "code",
   "execution_count": 14,
   "metadata": {},
   "outputs": [
    {
     "data": {
      "image/png": "[encoded data removed]",
      "text/plain": [
       "<Figure size 432x288 with 2 Axes>"
      ]
     },
     "metadata": {
      "needs_background": "light"
     },
     "output_type": "display_data"
    }
   ],
   "source": [
    "sns.heatmap(data.isnull(),yticklabels = False, cmap='viridis');"
   ]
  },
  {
   "cell_type": "code",
   "execution_count": 15,
   "metadata": {},
   "outputs": [],
   "source": [
    "# splitting dataset into dependent and independent\n",
    "\n",
    "X = data.drop(['class'],axis=1)\n",
    "Y = data['class']"
   ]
  },
  {
   "cell_type": "code",
   "execution_count": 16,
   "metadata": {},
   "outputs": [],
   "source": [
    "#Feature Scaling\n",
    "#min-max scaler method scales the data set so that all the input features lie between 0 and 1\n",
    "x_scaler = MinMaxScaler()\n",
    "x_scaler.fit(X)\n",
    "column_names = X.columns\n",
    "X[column_names] = x_scaler.transform(X) "
   ]
  },
  {
   "cell_type": "code",
   "execution_count": 17,
   "metadata": {},
   "outputs": [
    {
     "name": "stdout",
     "output_type": "stream",
     "text": [
      "           id       age        bp    sg    al   su  rbc   pc  pcc   ba  ...  \\\n",
      "3    0.000000  0.545455  0.333333  0.00  1.00  0.0  1.0  0.0  1.0  0.0  ...   \n",
      "9    0.006369  0.610390  0.666667  0.75  0.50  0.0  0.0  0.0  1.0  0.0  ...   \n",
      "11   0.012739  0.740260  0.333333  0.25  0.75  0.0  0.0  0.0  1.0  0.0  ...   \n",
      "14   0.019108  0.805195  0.500000  0.25  0.75  0.4  1.0  0.0  1.0  1.0  ...   \n",
      "20   0.025478  0.714286  0.500000  0.50  0.50  0.0  0.0  0.0  0.0  0.0  ...   \n",
      "..        ...       ...       ...   ...   ...  ...  ...  ...  ...  ...  ...   \n",
      "395  0.974522  0.636364  0.500000  0.75  0.00  0.0  1.0  1.0  0.0  0.0  ...   \n",
      "396  0.980892  0.467532  0.333333  1.00  0.00  0.0  1.0  1.0  0.0  0.0  ...   \n",
      "397  0.987261  0.077922  0.500000  0.75  0.00  0.0  1.0  1.0  0.0  0.0  ...   \n",
      "398  0.993631  0.142857  0.166667  1.00  0.00  0.0  1.0  1.0  0.0  0.0  ...   \n",
      "399  1.000000  0.675325  0.500000  1.00  0.00  0.0  1.0  1.0  0.0  0.0  ...   \n",
      "\n",
      "         hemo       pcv        wc     rc  htn   dm  cad  appet   pe  ane  \n",
      "3    0.551020  0.333333  0.600000  0.350  1.0  0.0  0.0    1.0  1.0  1.0  \n",
      "9    0.435374  0.242424  0.157143  0.300  1.0  1.0  0.0    1.0  0.0  1.0  \n",
      "11   0.523810  0.333333  0.357143  0.325  1.0  1.0  0.0    1.0  1.0  0.0  \n",
      "14   0.170068  0.000000  0.114286  0.050  1.0  1.0  1.0    1.0  1.0  0.0  \n",
      "20   0.312925  0.121212  0.900000  0.175  1.0  1.0  1.0    1.0  1.0  1.0  \n",
      "..        ...       ...       ...    ...  ...  ...  ...    ...  ...  ...  \n",
      "395  0.857143  0.757576  0.600000  0.575  0.0  0.0  0.0    0.0  0.0  0.0  \n",
      "396  0.911565  0.969697  0.742857  0.900  0.0  0.0  0.0    0.0  0.0  0.0  \n",
      "397  0.863946  0.818182  0.585714  0.700  0.0  0.0  0.0    0.0  0.0  0.0  \n",
      "398  0.755102  0.878788  0.671429  0.825  0.0  0.0  0.0    0.0  0.0  0.0  \n",
      "399  0.863946  0.939394  0.614286  0.875  0.0  0.0  0.0    0.0  0.0  0.0  \n",
      "\n",
      "[158 rows x 25 columns]\n"
     ]
    }
   ],
   "source": [
    "print(X)"
   ]
  },
  {
   "cell_type": "code",
   "execution_count": 18,
   "metadata": {},
   "outputs": [],
   "source": [
    "#split the data into 80% training and 20% testing and shuffle\n",
    "\n",
    "X_train, X_test, Y_train, Y_test = train_test_split(X,Y, test_size = 0.2 ,shuffle = True)"
   ]
  },
  {
   "cell_type": "markdown",
   "metadata": {},
   "source": [
    "# Aritificial Neural Network"
   ]
  },
  {
   "cell_type": "code",
   "execution_count": 19,
   "metadata": {},
   "outputs": [],
   "source": [
    "#build model\n",
    "\n",
    "model = Sequential()\n",
    "\n",
    "#first layer\n",
    "model.add(Dense(256,input_dim= len(X.columns),kernel_initializer= k.initializers.random_normal(seed= 13),activation= 'relu'))\n",
    "\n",
    "#second layer\n",
    "model.add(Dense (1, activation = 'hard_sigmoid'))"
   ]
  },
  {
   "cell_type": "code",
   "execution_count": 20,
   "metadata": {},
   "outputs": [],
   "source": [
    "#compiling the model\n",
    "#opt = adam(lr=0.001, decay=1e-6)\n",
    "\n",
    "model.compile(loss = 'binary_crossentropy', optimizer = 'adam', metrics = ['accuracy'])"
   ]
  },
  {
   "cell_type": "code",
   "execution_count": 21,
   "metadata": {},
   "outputs": [
    {
     "name": "stdout",
     "output_type": "stream",
     "text": [
      "Epoch 1/250\n",
      "1/1 [==============================] - 0s 980us/step - loss: 0.7195 - accuracy: 0.1587\n",
      "Epoch 2/250\n",
      "1/1 [==============================] - 0s 2ms/step - loss: 0.6849 - accuracy: 0.6190\n",
      "Epoch 3/250\n",
      "1/1 [==============================] - 0s 1ms/step - loss: 0.6521 - accuracy: 0.9524\n",
      "Epoch 4/250\n",
      "1/1 [==============================] - 0s 996us/step - loss: 0.6211 - accuracy: 0.9524\n",
      "Epoch 5/250\n",
      "1/1 [==============================] - 0s 2ms/step - loss: 0.5917 - accuracy: 0.9444\n",
      "Epoch 6/250\n",
      "1/1 [==============================] - 0s 999us/step - loss: 0.5636 - accuracy: 0.9444\n",
      "Epoch 7/250\n",
      "1/1 [==============================] - 0s 2ms/step - loss: 0.5368 - accuracy: 0.9444\n",
      "Epoch 8/250\n",
      "1/1 [==============================] - 0s 2ms/step - loss: 0.5111 - accuracy: 0.9444\n",
      "Epoch 9/250\n",
      "1/1 [==============================] - 0s 997us/step - loss: 0.4862 - accuracy: 0.9444\n",
      "Epoch 10/250\n",
      "1/1 [==============================] - 0s 998us/step - loss: 0.4622 - accuracy: 0.9365\n",
      "Epoch 11/250\n",
      "1/1 [==============================] - 0s 2ms/step - loss: 0.4387 - accuracy: 0.9365\n",
      "Epoch 12/250\n",
      "1/1 [==============================] - 0s 999us/step - loss: 0.4159 - accuracy: 0.9365\n",
      "Epoch 13/250\n",
      "1/1 [==============================] - 0s 2ms/step - loss: 0.3937 - accuracy: 0.9286\n",
      "Epoch 14/250\n",
      "1/1 [==============================] - 0s 1ms/step - loss: 0.3720 - accuracy: 0.9286\n",
      "Epoch 15/250\n",
      "1/1 [==============================] - 0s 996us/step - loss: 0.3509 - accuracy: 0.9286\n",
      "Epoch 16/250\n",
      "1/1 [==============================] - 0s 996us/step - loss: 0.3303 - accuracy: 0.9286\n",
      "Epoch 17/250\n",
      "1/1 [==============================] - 0s 997us/step - loss: 0.3102 - accuracy: 0.9286\n",
      "Epoch 18/250\n",
      "1/1 [==============================] - 0s 2ms/step - loss: 0.2905 - accuracy: 0.9365\n",
      "Epoch 19/250\n",
      "1/1 [==============================] - 0s 1ms/step - loss: 0.2710 - accuracy: 0.9444\n",
      "Epoch 20/250\n",
      "1/1 [==============================] - 0s 991us/step - loss: 0.2518 - accuracy: 0.9444\n",
      "Epoch 21/250\n",
      "1/1 [==============================] - 0s 2ms/step - loss: 0.2327 - accuracy: 0.9524\n",
      "Epoch 22/250\n",
      "1/1 [==============================] - 0s 997us/step - loss: 0.2139 - accuracy: 0.9524\n",
      "Epoch 23/250\n",
      "1/1 [==============================] - 0s 996us/step - loss: 0.1951 - accuracy: 0.9524\n",
      "Epoch 24/250\n",
      "1/1 [==============================] - 0s 983us/step - loss: 0.1765 - accuracy: 0.9524\n",
      "Epoch 25/250\n",
      "1/1 [==============================] - 0s 999us/step - loss: 0.1580 - accuracy: 0.9524\n",
      "Epoch 26/250\n",
      "1/1 [==============================] - 0s 998us/step - loss: 0.1407 - accuracy: 0.9524\n",
      "Epoch 27/250\n",
      "1/1 [==============================] - 0s 2ms/step - loss: 0.1259 - accuracy: 0.9524\n",
      "Epoch 28/250\n",
      "1/1 [==============================] - 0s 998us/step - loss: 0.1138 - accuracy: 0.9603\n",
      "Epoch 29/250\n",
      "1/1 [==============================] - 0s 2ms/step - loss: 0.1047 - accuracy: 0.9603\n",
      "Epoch 30/250\n",
      "1/1 [==============================] - 0s 998us/step - loss: 0.0978 - accuracy: 0.9603\n",
      "Epoch 31/250\n",
      "1/1 [==============================] - 0s 999us/step - loss: 0.0915 - accuracy: 0.9603\n",
      "Epoch 32/250\n",
      "1/1 [==============================] - 0s 997us/step - loss: 0.0852 - accuracy: 0.9683\n",
      "Epoch 33/250\n",
      "1/1 [==============================] - 0s 0s/step - loss: 0.0786 - accuracy: 0.9683\n",
      "Epoch 34/250\n",
      "1/1 [==============================] - 0s 2ms/step - loss: 0.0725 - accuracy: 0.9683\n",
      "Epoch 35/250\n",
      "1/1 [==============================] - 0s 0s/step - loss: 0.0667 - accuracy: 0.9683\n",
      "Epoch 36/250\n",
      "1/1 [==============================] - 0s 998us/step - loss: 0.0611 - accuracy: 0.9762\n",
      "Epoch 37/250\n",
      "1/1 [==============================] - 0s 2ms/step - loss: 0.0562 - accuracy: 0.9762\n",
      "Epoch 38/250\n",
      "1/1 [==============================] - 0s 1ms/step - loss: 0.0523 - accuracy: 0.9762\n",
      "Epoch 39/250\n",
      "1/1 [==============================] - 0s 998us/step - loss: 0.0488 - accuracy: 0.9762\n",
      "Epoch 40/250\n",
      "1/1 [==============================] - 0s 998us/step - loss: 0.0459 - accuracy: 0.9841\n",
      "Epoch 41/250\n",
      "1/1 [==============================] - 0s 996us/step - loss: 0.0438 - accuracy: 0.9841\n",
      "Epoch 42/250\n",
      "1/1 [==============================] - 0s 999us/step - loss: 0.0424 - accuracy: 0.9841\n",
      "Epoch 43/250\n",
      "1/1 [==============================] - 0s 998us/step - loss: 0.0410 - accuracy: 0.9841\n",
      "Epoch 44/250\n",
      "1/1 [==============================] - 0s 998us/step - loss: 0.0395 - accuracy: 0.9841\n",
      "Epoch 45/250\n",
      "1/1 [==============================] - 0s 997us/step - loss: 0.0378 - accuracy: 0.9841\n",
      "Epoch 46/250\n",
      "1/1 [==============================] - 0s 997us/step - loss: 0.0359 - accuracy: 0.9841\n",
      "Epoch 47/250\n",
      "1/1 [==============================] - 0s 999us/step - loss: 0.0340 - accuracy: 0.9841\n",
      "Epoch 48/250\n",
      "1/1 [==============================] - 0s 2ms/step - loss: 0.0321 - accuracy: 0.9841\n",
      "Epoch 49/250\n",
      "1/1 [==============================] - 0s 997us/step - loss: 0.0307 - accuracy: 0.9841\n",
      "Epoch 50/250\n",
      "1/1 [==============================] - 0s 997us/step - loss: 0.0294 - accuracy: 0.9841\n",
      "Epoch 51/250\n",
      "1/1 [==============================] - 0s 2ms/step - loss: 0.0283 - accuracy: 0.9841\n",
      "Epoch 52/250\n",
      "1/1 [==============================] - 0s 996us/step - loss: 0.0272 - accuracy: 0.9841\n",
      "Epoch 53/250\n",
      "1/1 [==============================] - 0s 999us/step - loss: 0.0263 - accuracy: 0.9841\n",
      "Epoch 54/250\n",
      "1/1 [==============================] - 0s 996us/step - loss: 0.0253 - accuracy: 0.9841\n",
      "Epoch 55/250\n",
      "1/1 [==============================] - 0s 997us/step - loss: 0.0244 - accuracy: 0.9841\n",
      "Epoch 56/250\n",
      "1/1 [==============================] - 0s 2ms/step - loss: 0.0235 - accuracy: 0.9841\n",
      "Epoch 57/250\n",
      "1/1 [==============================] - 0s 2ms/step - loss: 0.0226 - accuracy: 0.9841\n",
      "Epoch 58/250\n",
      "1/1 [==============================] - 0s 1ms/step - loss: 0.0219 - accuracy: 0.9841\n",
      "Epoch 59/250\n",
      "1/1 [==============================] - 0s 2ms/step - loss: 0.0212 - accuracy: 0.9841\n",
      "Epoch 60/250\n",
      "1/1 [==============================] - 0s 998us/step - loss: 0.0205 - accuracy: 0.9841\n",
      "Epoch 61/250\n",
      "1/1 [==============================] - 0s 999us/step - loss: 0.0199 - accuracy: 0.9841\n",
      "Epoch 62/250\n",
      "1/1 [==============================] - 0s 2ms/step - loss: 0.0192 - accuracy: 0.9841\n",
      "Epoch 63/250\n",
      "1/1 [==============================] - 0s 990us/step - loss: 0.0186 - accuracy: 0.9841\n",
      "Epoch 64/250\n",
      "1/1 [==============================] - 0s 2ms/step - loss: 0.0181 - accuracy: 0.9921\n",
      "Epoch 65/250\n",
      "1/1 [==============================] - 0s 2ms/step - loss: 0.0176 - accuracy: 0.9921\n",
      "Epoch 66/250\n",
      "1/1 [==============================] - 0s 997us/step - loss: 0.0170 - accuracy: 0.9921\n",
      "Epoch 67/250\n",
      "1/1 [==============================] - 0s 2ms/step - loss: 0.0166 - accuracy: 0.9921\n",
      "Epoch 68/250\n",
      "1/1 [==============================] - 0s 2ms/step - loss: 0.0161 - accuracy: 0.9921\n",
      "Epoch 69/250\n",
      "1/1 [==============================] - 0s 2ms/step - loss: 0.0156 - accuracy: 0.9921\n",
      "Epoch 70/250\n",
      "1/1 [==============================] - 0s 998us/step - loss: 0.0151 - accuracy: 0.9921\n",
      "Epoch 71/250\n",
      "1/1 [==============================] - 0s 2ms/step - loss: 0.0147 - accuracy: 1.0000\n",
      "Epoch 72/250\n",
      "1/1 [==============================] - 0s 2ms/step - loss: 0.0142 - accuracy: 1.0000\n",
      "Epoch 73/250\n",
      "1/1 [==============================] - 0s 994us/step - loss: 0.0138 - accuracy: 1.0000\n",
      "Epoch 74/250\n",
      "1/1 [==============================] - 0s 2ms/step - loss: 0.0134 - accuracy: 1.0000\n",
      "Epoch 75/250\n",
      "1/1 [==============================] - 0s 998us/step - loss: 0.0131 - accuracy: 1.0000\n",
      "Epoch 76/250\n",
      "1/1 [==============================] - 0s 2ms/step - loss: 0.0127 - accuracy: 1.0000\n",
      "Epoch 77/250\n",
      "1/1 [==============================] - 0s 2ms/step - loss: 0.0123 - accuracy: 1.0000\n",
      "Epoch 78/250\n",
      "1/1 [==============================] - 0s 997us/step - loss: 0.0120 - accuracy: 1.0000\n",
      "Epoch 79/250\n",
      "1/1 [==============================] - 0s 2ms/step - loss: 0.0117 - accuracy: 1.0000\n",
      "Epoch 80/250\n",
      "1/1 [==============================] - 0s 2ms/step - loss: 0.0114 - accuracy: 1.0000\n",
      "Epoch 81/250\n",
      "1/1 [==============================] - 0s 2ms/step - loss: 0.0111 - accuracy: 1.0000\n",
      "Epoch 82/250\n",
      "1/1 [==============================] - 0s 2ms/step - loss: 0.0109 - accuracy: 1.0000\n",
      "Epoch 83/250\n",
      "1/1 [==============================] - 0s 997us/step - loss: 0.0106 - accuracy: 1.0000\n",
      "Epoch 84/250\n",
      "1/1 [==============================] - 0s 995us/step - loss: 0.0103 - accuracy: 1.0000\n",
      "Epoch 85/250\n",
      "1/1 [==============================] - 0s 999us/step - loss: 0.0101 - accuracy: 1.0000\n",
      "Epoch 86/250\n",
      "1/1 [==============================] - 0s 998us/step - loss: 0.0099 - accuracy: 1.0000\n",
      "Epoch 87/250\n",
      "1/1 [==============================] - 0s 2ms/step - loss: 0.0097 - accuracy: 1.0000\n",
      "Epoch 88/250\n",
      "1/1 [==============================] - 0s 2ms/step - loss: 0.0095 - accuracy: 1.0000\n",
      "Epoch 89/250\n",
      "1/1 [==============================] - 0s 2ms/step - loss: 0.0093 - accuracy: 1.0000\n",
      "Epoch 90/250\n",
      "1/1 [==============================] - 0s 2ms/step - loss: 0.0092 - accuracy: 1.0000\n",
      "Epoch 91/250\n",
      "1/1 [==============================] - 0s 998us/step - loss: 0.0090 - accuracy: 1.0000\n",
      "Epoch 92/250\n",
      "1/1 [==============================] - 0s 998us/step - loss: 0.0089 - accuracy: 1.0000\n",
      "Epoch 93/250\n",
      "1/1 [==============================] - 0s 996us/step - loss: 0.0087 - accuracy: 1.0000\n",
      "Epoch 94/250\n",
      "1/1 [==============================] - 0s 999us/step - loss: 0.0086 - accuracy: 1.0000\n",
      "Epoch 95/250\n",
      "1/1 [==============================] - 0s 998us/step - loss: 0.0084 - accuracy: 1.0000\n",
      "Epoch 96/250\n",
      "1/1 [==============================] - 0s 996us/step - loss: 0.0083 - accuracy: 1.0000\n",
      "Epoch 97/250\n",
      "1/1 [==============================] - 0s 2ms/step - loss: 0.0082 - accuracy: 1.0000\n",
      "Epoch 98/250\n",
      "1/1 [==============================] - 0s 998us/step - loss: 0.0080 - accuracy: 1.0000\n",
      "Epoch 99/250\n",
      "1/1 [==============================] - 0s 996us/step - loss: 0.0079 - accuracy: 1.0000\n",
      "Epoch 100/250\n",
      "1/1 [==============================] - 0s 998us/step - loss: 0.0078 - accuracy: 1.0000\n",
      "Epoch 101/250\n",
      "1/1 [==============================] - 0s 997us/step - loss: 0.0077 - accuracy: 1.0000\n",
      "Epoch 102/250\n",
      "1/1 [==============================] - 0s 997us/step - loss: 0.0076 - accuracy: 1.0000\n",
      "Epoch 103/250\n",
      "1/1 [==============================] - 0s 2ms/step - loss: 0.0075 - accuracy: 1.0000\n",
      "Epoch 104/250\n",
      "1/1 [==============================] - 0s 2ms/step - loss: 0.0074 - accuracy: 1.0000\n",
      "Epoch 105/250\n",
      "1/1 [==============================] - 0s 997us/step - loss: 0.0073 - accuracy: 1.0000\n",
      "Epoch 106/250\n",
      "1/1 [==============================] - 0s 2ms/step - loss: 0.0073 - accuracy: 1.0000\n",
      "Epoch 107/250\n",
      "1/1 [==============================] - 0s 995us/step - loss: 0.0072 - accuracy: 1.0000\n",
      "Epoch 108/250\n",
      "1/1 [==============================] - 0s 2ms/step - loss: 0.0071 - accuracy: 1.0000\n",
      "Epoch 109/250\n",
      "1/1 [==============================] - 0s 998us/step - loss: 0.0070 - accuracy: 1.0000\n",
      "Epoch 110/250\n",
      "1/1 [==============================] - 0s 995us/step - loss: 0.0069 - accuracy: 1.0000\n",
      "Epoch 111/250\n",
      "1/1 [==============================] - 0s 2ms/step - loss: 0.0069 - accuracy: 1.0000\n",
      "Epoch 112/250\n",
      "1/1 [==============================] - 0s 997us/step - loss: 0.0068 - accuracy: 1.0000\n",
      "Epoch 113/250\n",
      "1/1 [==============================] - 0s 998us/step - loss: 0.0067 - accuracy: 1.0000\n",
      "Epoch 114/250\n",
      "1/1 [==============================] - 0s 997us/step - loss: 0.0066 - accuracy: 1.0000\n",
      "Epoch 115/250\n",
      "1/1 [==============================] - 0s 0s/step - loss: 0.0066 - accuracy: 1.0000\n",
      "Epoch 116/250\n",
      "1/1 [==============================] - 0s 997us/step - loss: 0.0065 - accuracy: 1.0000\n",
      "Epoch 117/250\n",
      "1/1 [==============================] - 0s 998us/step - loss: 0.0064 - accuracy: 1.0000\n",
      "Epoch 118/250\n",
      "1/1 [==============================] - 0s 998us/step - loss: 0.0064 - accuracy: 1.0000\n",
      "Epoch 119/250\n",
      "1/1 [==============================] - 0s 999us/step - loss: 0.0063 - accuracy: 1.0000\n",
      "Epoch 120/250\n",
      "1/1 [==============================] - 0s 998us/step - loss: 0.0062 - accuracy: 1.0000\n",
      "Epoch 121/250\n",
      "1/1 [==============================] - 0s 1000us/step - loss: 0.0061 - accuracy: 1.0000\n",
      "Epoch 122/250\n",
      "1/1 [==============================] - 0s 2ms/step - loss: 0.0061 - accuracy: 1.0000\n",
      "Epoch 123/250\n",
      "1/1 [==============================] - 0s 998us/step - loss: 0.0060 - accuracy: 1.0000\n",
      "Epoch 124/250\n",
      "1/1 [==============================] - 0s 2ms/step - loss: 0.0059 - accuracy: 1.0000\n",
      "Epoch 125/250\n",
      "1/1 [==============================] - 0s 998us/step - loss: 0.0059 - accuracy: 1.0000\n",
      "Epoch 126/250\n",
      "1/1 [==============================] - 0s 1ms/step - loss: 0.0058 - accuracy: 1.0000\n",
      "Epoch 127/250\n",
      "1/1 [==============================] - 0s 998us/step - loss: 0.0057 - accuracy: 1.0000\n",
      "Epoch 128/250\n",
      "1/1 [==============================] - 0s 998us/step - loss: 0.0057 - accuracy: 1.0000\n",
      "Epoch 129/250\n",
      "1/1 [==============================] - 0s 2ms/step - loss: 0.0056 - accuracy: 1.0000\n",
      "Epoch 130/250\n",
      "1/1 [==============================] - 0s 998us/step - loss: 0.0055 - accuracy: 1.0000\n",
      "Epoch 131/250\n",
      "1/1 [==============================] - 0s 998us/step - loss: 0.0055 - accuracy: 1.0000\n",
      "Epoch 132/250\n",
      "1/1 [==============================] - 0s 997us/step - loss: 0.0054 - accuracy: 1.0000\n",
      "Epoch 133/250\n",
      "1/1 [==============================] - 0s 996us/step - loss: 0.0053 - accuracy: 1.0000\n",
      "Epoch 134/250\n",
      "1/1 [==============================] - 0s 996us/step - loss: 0.0053 - accuracy: 1.0000\n",
      "Epoch 135/250\n",
      "1/1 [==============================] - 0s 998us/step - loss: 0.0052 - accuracy: 1.0000\n",
      "Epoch 136/250\n",
      "1/1 [==============================] - 0s 2ms/step - loss: 0.0052 - accuracy: 1.0000\n",
      "Epoch 137/250\n",
      "1/1 [==============================] - 0s 2ms/step - loss: 0.0051 - accuracy: 1.0000\n",
      "Epoch 138/250\n",
      "1/1 [==============================] - 0s 998us/step - loss: 0.0050 - accuracy: 1.0000\n",
      "Epoch 139/250\n",
      "1/1 [==============================] - 0s 999us/step - loss: 0.0050 - accuracy: 1.0000\n",
      "Epoch 140/250\n",
      "1/1 [==============================] - 0s 997us/step - loss: 0.0049 - accuracy: 1.0000\n",
      "Epoch 141/250\n",
      "1/1 [==============================] - 0s 998us/step - loss: 0.0048 - accuracy: 1.0000\n",
      "Epoch 142/250\n",
      "1/1 [==============================] - 0s 996us/step - loss: 0.0048 - accuracy: 1.0000\n",
      "Epoch 143/250\n",
      "1/1 [==============================] - 0s 999us/step - loss: 0.0047 - accuracy: 1.0000\n",
      "Epoch 144/250\n",
      "1/1 [==============================] - 0s 999us/step - loss: 0.0046 - accuracy: 1.0000\n",
      "Epoch 145/250\n",
      "1/1 [==============================] - 0s 997us/step - loss: 0.0046 - accuracy: 1.0000\n",
      "Epoch 146/250\n",
      "1/1 [==============================] - 0s 998us/step - loss: 0.0045 - accuracy: 1.0000\n",
      "Epoch 147/250\n",
      "1/1 [==============================] - 0s 1ms/step - loss: 0.0045 - accuracy: 1.0000\n",
      "Epoch 148/250\n",
      "1/1 [==============================] - 0s 998us/step - loss: 0.0044 - accuracy: 1.0000\n",
      "Epoch 149/250\n",
      "1/1 [==============================] - 0s 998us/step - loss: 0.0043 - accuracy: 1.0000\n",
      "Epoch 150/250\n",
      "1/1 [==============================] - 0s 998us/step - loss: 0.0043 - accuracy: 1.0000\n",
      "Epoch 151/250\n",
      "1/1 [==============================] - 0s 2ms/step - loss: 0.0042 - accuracy: 1.0000\n",
      "Epoch 152/250\n",
      "1/1 [==============================] - 0s 2ms/step - loss: 0.0042 - accuracy: 1.0000\n",
      "Epoch 153/250\n",
      "1/1 [==============================] - 0s 993us/step - loss: 0.0041 - accuracy: 1.0000\n",
      "Epoch 154/250\n",
      "1/1 [==============================] - 0s 2ms/step - loss: 0.0040 - accuracy: 1.0000\n",
      "Epoch 155/250\n",
      "1/1 [==============================] - 0s 2ms/step - loss: 0.0040 - accuracy: 1.0000\n",
      "Epoch 156/250\n",
      "1/1 [==============================] - 0s 1ms/step - loss: 0.0039 - accuracy: 1.0000\n",
      "Epoch 157/250\n",
      "1/1 [==============================] - 0s 998us/step - loss: 0.0038 - accuracy: 1.0000\n",
      "Epoch 158/250\n",
      "1/1 [==============================] - 0s 998us/step - loss: 0.0038 - accuracy: 1.0000\n",
      "Epoch 159/250\n",
      "1/1 [==============================] - 0s 998us/step - loss: 0.0037 - accuracy: 1.0000\n",
      "Epoch 160/250\n",
      "1/1 [==============================] - 0s 1ms/step - loss: 0.0037 - accuracy: 1.0000\n",
      "Epoch 161/250\n",
      "1/1 [==============================] - 0s 2ms/step - loss: 0.0036 - accuracy: 1.0000\n",
      "Epoch 162/250\n",
      "1/1 [==============================] - 0s 998us/step - loss: 0.0035 - accuracy: 1.0000\n",
      "Epoch 163/250\n",
      "1/1 [==============================] - 0s 2ms/step - loss: 0.0035 - accuracy: 1.0000\n",
      "Epoch 164/250\n",
      "1/1 [==============================] - 0s 2ms/step - loss: 0.0034 - accuracy: 1.0000\n",
      "Epoch 165/250\n",
      "1/1 [==============================] - 0s 995us/step - loss: 0.0034 - accuracy: 1.0000\n",
      "Epoch 166/250\n",
      "1/1 [==============================] - 0s 999us/step - loss: 0.0033 - accuracy: 1.0000\n",
      "Epoch 167/250\n",
      "1/1 [==============================] - 0s 997us/step - loss: 0.0032 - accuracy: 1.0000\n",
      "Epoch 168/250\n",
      "1/1 [==============================] - 0s 998us/step - loss: 0.0032 - accuracy: 1.0000\n",
      "Epoch 169/250\n",
      "1/1 [==============================] - 0s 2ms/step - loss: 0.0031 - accuracy: 1.0000\n",
      "Epoch 170/250\n",
      "1/1 [==============================] - 0s 998us/step - loss: 0.0031 - accuracy: 1.0000\n",
      "Epoch 171/250\n",
      "1/1 [==============================] - 0s 2ms/step - loss: 0.0030 - accuracy: 1.0000\n",
      "Epoch 172/250\n",
      "1/1 [==============================] - 0s 2ms/step - loss: 0.0029 - accuracy: 1.0000\n",
      "Epoch 173/250\n",
      "1/1 [==============================] - 0s 996us/step - loss: 0.0029 - accuracy: 1.0000\n",
      "Epoch 174/250\n",
      "1/1 [==============================] - 0s 997us/step - loss: 0.0028 - accuracy: 1.0000\n",
      "Epoch 175/250\n",
      "1/1 [==============================] - 0s 996us/step - loss: 0.0028 - accuracy: 1.0000\n",
      "Epoch 176/250\n",
      "1/1 [==============================] - 0s 995us/step - loss: 0.0027 - accuracy: 1.0000\n",
      "Epoch 177/250\n",
      "1/1 [==============================] - 0s 2ms/step - loss: 0.0026 - accuracy: 1.0000\n",
      "Epoch 178/250\n",
      "1/1 [==============================] - 0s 2ms/step - loss: 0.0026 - accuracy: 1.0000\n",
      "Epoch 179/250\n",
      "1/1 [==============================] - 0s 998us/step - loss: 0.0025 - accuracy: 1.0000\n",
      "Epoch 180/250\n",
      "1/1 [==============================] - 0s 997us/step - loss: 0.0025 - accuracy: 1.0000\n",
      "Epoch 181/250\n",
      "1/1 [==============================] - 0s 998us/step - loss: 0.0024 - accuracy: 1.0000\n",
      "Epoch 182/250\n",
      "1/1 [==============================] - 0s 997us/step - loss: 0.0023 - accuracy: 1.0000\n",
      "Epoch 183/250\n",
      "1/1 [==============================] - 0s 996us/step - loss: 0.0023 - accuracy: 1.0000\n",
      "Epoch 184/250\n",
      "1/1 [==============================] - 0s 2ms/step - loss: 0.0022 - accuracy: 1.0000\n",
      "Epoch 185/250\n",
      "1/1 [==============================] - 0s 997us/step - loss: 0.0022 - accuracy: 1.0000\n",
      "Epoch 186/250\n",
      "1/1 [==============================] - 0s 997us/step - loss: 0.0021 - accuracy: 1.0000\n",
      "Epoch 187/250\n",
      "1/1 [==============================] - 0s 994us/step - loss: 0.0020 - accuracy: 1.0000\n",
      "Epoch 188/250\n",
      "1/1 [==============================] - 0s 997us/step - loss: 0.0020 - accuracy: 1.0000\n",
      "Epoch 189/250\n",
      "1/1 [==============================] - 0s 2ms/step - loss: 0.0019 - accuracy: 1.0000\n",
      "Epoch 190/250\n",
      "1/1 [==============================] - 0s 997us/step - loss: 0.0019 - accuracy: 1.0000\n",
      "Epoch 191/250\n",
      "1/1 [==============================] - 0s 988us/step - loss: 0.0018 - accuracy: 1.0000\n",
      "Epoch 192/250\n",
      "1/1 [==============================] - 0s 997us/step - loss: 0.0017 - accuracy: 1.0000\n",
      "Epoch 193/250\n",
      "1/1 [==============================] - 0s 997us/step - loss: 0.0017 - accuracy: 1.0000\n",
      "Epoch 194/250\n",
      "1/1 [==============================] - 0s 2ms/step - loss: 0.0016 - accuracy: 1.0000\n",
      "Epoch 195/250\n",
      "1/1 [==============================] - 0s 2ms/step - loss: 0.0016 - accuracy: 1.0000\n",
      "Epoch 196/250\n",
      "1/1 [==============================] - 0s 997us/step - loss: 0.0015 - accuracy: 1.0000\n",
      "Epoch 197/250\n",
      "1/1 [==============================] - 0s 2ms/step - loss: 0.0015 - accuracy: 1.0000\n",
      "Epoch 198/250\n",
      "1/1 [==============================] - 0s 2ms/step - loss: 0.0014 - accuracy: 1.0000\n",
      "Epoch 199/250\n",
      "1/1 [==============================] - 0s 997us/step - loss: 0.0014 - accuracy: 1.0000\n",
      "Epoch 200/250\n",
      "1/1 [==============================] - 0s 994us/step - loss: 0.0014 - accuracy: 1.0000\n",
      "Epoch 201/250\n",
      "1/1 [==============================] - 0s 996us/step - loss: 0.0014 - accuracy: 1.0000\n",
      "Epoch 202/250\n",
      "1/1 [==============================] - 0s 997us/step - loss: 0.0013 - accuracy: 1.0000\n",
      "Epoch 203/250\n",
      "1/1 [==============================] - 0s 997us/step - loss: 0.0013 - accuracy: 1.0000\n",
      "Epoch 204/250\n",
      "1/1 [==============================] - 0s 992us/step - loss: 0.0013 - accuracy: 1.0000\n",
      "Epoch 205/250\n",
      "1/1 [==============================] - 0s 996us/step - loss: 0.0013 - accuracy: 1.0000\n",
      "Epoch 206/250\n",
      "1/1 [==============================] - 0s 997us/step - loss: 0.0013 - accuracy: 1.0000\n",
      "Epoch 207/250\n",
      "1/1 [==============================] - 0s 998us/step - loss: 0.0012 - accuracy: 1.0000\n",
      "Epoch 208/250\n",
      "1/1 [==============================] - 0s 1ms/step - loss: 0.0012 - accuracy: 1.0000\n",
      "Epoch 209/250\n",
      "1/1 [==============================] - 0s 2ms/step - loss: 0.0012 - accuracy: 1.0000\n",
      "Epoch 210/250\n",
      "1/1 [==============================] - 0s 998us/step - loss: 0.0012 - accuracy: 1.0000\n",
      "Epoch 211/250\n",
      "1/1 [==============================] - 0s 996us/step - loss: 0.0012 - accuracy: 1.0000\n",
      "Epoch 212/250\n",
      "1/1 [==============================] - 0s 2ms/step - loss: 0.0012 - accuracy: 1.0000\n",
      "Epoch 213/250\n",
      "1/1 [==============================] - 0s 2ms/step - loss: 0.0011 - accuracy: 1.0000\n",
      "Epoch 214/250\n",
      "1/1 [==============================] - 0s 998us/step - loss: 0.0011 - accuracy: 1.0000\n",
      "Epoch 215/250\n",
      "1/1 [==============================] - 0s 996us/step - loss: 0.0011 - accuracy: 1.0000\n",
      "Epoch 216/250\n",
      "1/1 [==============================] - 0s 999us/step - loss: 0.0011 - accuracy: 1.0000\n",
      "Epoch 217/250\n",
      "1/1 [==============================] - 0s 998us/step - loss: 0.0011 - accuracy: 1.0000\n",
      "Epoch 218/250\n",
      "1/1 [==============================] - 0s 997us/step - loss: 0.0011 - accuracy: 1.0000\n",
      "Epoch 219/250\n",
      "1/1 [==============================] - 0s 998us/step - loss: 0.0010 - accuracy: 1.0000\n",
      "Epoch 220/250\n",
      "1/1 [==============================] - 0s 997us/step - loss: 0.0010 - accuracy: 1.0000\n",
      "Epoch 221/250\n",
      "1/1 [==============================] - 0s 1ms/step - loss: 0.0010 - accuracy: 1.0000\n",
      "Epoch 222/250\n",
      "1/1 [==============================] - 0s 996us/step - loss: 9.8821e-04 - accuracy: 1.0000\n",
      "Epoch 223/250\n",
      "1/1 [==============================] - 0s 997us/step - loss: 9.7321e-04 - accuracy: 1.0000\n",
      "Epoch 224/250\n",
      "1/1 [==============================] - 0s 996us/step - loss: 9.5528e-04 - accuracy: 1.0000\n",
      "Epoch 225/250\n",
      "1/1 [==============================] - 0s 998us/step - loss: 9.4004e-04 - accuracy: 1.0000\n",
      "Epoch 226/250\n",
      "1/1 [==============================] - 0s 2ms/step - loss: 9.2451e-04 - accuracy: 1.0000\n",
      "Epoch 227/250\n",
      "1/1 [==============================] - 0s 2ms/step - loss: 9.0871e-04 - accuracy: 1.0000\n",
      "Epoch 228/250\n",
      "1/1 [==============================] - 0s 997us/step - loss: 8.9380e-04 - accuracy: 1.0000\n",
      "Epoch 229/250\n",
      "1/1 [==============================] - 0s 997us/step - loss: 8.7764e-04 - accuracy: 1.0000\n",
      "Epoch 230/250\n",
      "1/1 [==============================] - 0s 997us/step - loss: 8.6230e-04 - accuracy: 1.0000\n",
      "Epoch 231/250\n",
      "1/1 [==============================] - 0s 997us/step - loss: 8.4666e-04 - accuracy: 1.0000\n",
      "Epoch 232/250\n",
      "1/1 [==============================] - 0s 997us/step - loss: 8.3179e-04 - accuracy: 1.0000\n",
      "Epoch 233/250\n",
      "1/1 [==============================] - 0s 2ms/step - loss: 8.1584e-04 - accuracy: 1.0000\n",
      "Epoch 234/250\n",
      "1/1 [==============================] - 0s 997us/step - loss: 8.0059e-04 - accuracy: 1.0000\n",
      "Epoch 235/250\n",
      "1/1 [==============================] - 0s 996us/step - loss: 7.8500e-04 - accuracy: 1.0000\n",
      "Epoch 236/250\n",
      "1/1 [==============================] - 0s 997us/step - loss: 7.6954e-04 - accuracy: 1.0000\n",
      "Epoch 237/250\n",
      "1/1 [==============================] - 0s 2ms/step - loss: 7.5427e-04 - accuracy: 1.0000\n",
      "Epoch 238/250\n",
      "1/1 [==============================] - 0s 998us/step - loss: 7.3909e-04 - accuracy: 1.0000\n",
      "Epoch 239/250\n",
      "1/1 [==============================] - 0s 994us/step - loss: 7.2357e-04 - accuracy: 1.0000\n",
      "Epoch 240/250\n",
      "1/1 [==============================] - 0s 997us/step - loss: 7.0771e-04 - accuracy: 1.0000\n",
      "Epoch 241/250\n",
      "1/1 [==============================] - 0s 0s/step - loss: 6.9443e-04 - accuracy: 1.0000\n",
      "Epoch 242/250\n",
      "1/1 [==============================] - 0s 1ms/step - loss: 6.7814e-04 - accuracy: 1.0000\n",
      "Epoch 243/250\n",
      "1/1 [==============================] - 0s 2ms/step - loss: 6.6542e-04 - accuracy: 1.0000\n",
      "Epoch 244/250\n",
      "1/1 [==============================] - 0s 997us/step - loss: 6.4810e-04 - accuracy: 1.0000\n",
      "Epoch 245/250\n",
      "1/1 [==============================] - 0s 2ms/step - loss: 6.3605e-04 - accuracy: 1.0000\n",
      "Epoch 246/250\n",
      "1/1 [==============================] - 0s 997us/step - loss: 6.2338e-04 - accuracy: 1.0000\n",
      "Epoch 247/250\n",
      "1/1 [==============================] - 0s 996us/step - loss: 6.0743e-04 - accuracy: 1.0000\n",
      "Epoch 248/250\n",
      "1/1 [==============================] - 0s 997us/step - loss: 5.8856e-04 - accuracy: 1.0000\n",
      "Epoch 249/250\n",
      "1/1 [==============================] - 0s 1ms/step - loss: 5.7565e-04 - accuracy: 1.0000\n",
      "Epoch 250/250\n",
      "1/1 [==============================] - 0s 2ms/step - loss: 5.6148e-04 - accuracy: 1.0000\n"
     ]
    }
   ],
   "source": [
    "#train the model\n",
    "\n",
    "history = model.fit(X_train, Y_train, epochs = 250, batch_size = X_train.shape[0])"
   ]
  },
  {
   "cell_type": "code",
   "execution_count": 22,
   "metadata": {
    "scrolled": true
   },
   "outputs": [
    {
     "name": "stdout",
     "output_type": "stream",
     "text": [
      "WARNING:tensorflow:From C:\\Users\\Rajiv\\AppData\\Roaming\\Python\\Python37\\site-packages\\tensorflow\\python\\training\\tracking\\tracking.py:111: Model.state_updates (from tensorflow.python.keras.engine.training) is deprecated and will be removed in a future version.\n",
      "Instructions for updating:\n",
      "This property should not be used in TensorFlow 2.0, as updates are applied automatically.\n",
      "WARNING:tensorflow:From C:\\Users\\Rajiv\\AppData\\Roaming\\Python\\Python37\\site-packages\\tensorflow\\python\\training\\tracking\\tracking.py:111: Layer.updates (from tensorflow.python.keras.engine.base_layer) is deprecated and will be removed in a future version.\n",
      "Instructions for updating:\n",
      "This property should not be used in TensorFlow 2.0, as updates are applied automatically.\n",
      "INFO:tensorflow:Assets written to: ckd.model\\assets\n"
     ]
    }
   ],
   "source": [
    "#save the model\n",
    "\n",
    "model.save('ckd.model');"
   ]
  },
  {
   "cell_type": "code",
   "execution_count": 23,
   "metadata": {},
   "outputs": [
    {
     "data": {
      "image/png": "[encoded data removed]",
      "text/plain": [
       "<Figure size 432x288 with 1 Axes>"
      ]
     },
     "metadata": {
      "needs_background": "light"
     },
     "output_type": "display_data"
    }
   ],
   "source": [
    "#visualie model loss and accuracy\n",
    "\n",
    "plt.plot(history.history['accuracy'],label='Accuracy')\n",
    "plt.plot(history.history['loss'],label='Loss')\n",
    "plt.title('Model Loss and Accuracy')\n",
    "plt.ylabel('Accuracy and Loss')\n",
    "plt.xlabel('Epochs')   \n",
    "plt.legend();"
   ]
  },
  {
   "cell_type": "code",
   "execution_count": 24,
   "metadata": {},
   "outputs": [
    {
     "name": "stdout",
     "output_type": "stream",
     "text": [
      "shape of training data:  (126, 25)\n",
      "shape of test data:  (32, 25)\n"
     ]
    }
   ],
   "source": [
    "print(\"shape of training data: \",X_train.shape)\n",
    "print(\"shape of test data: \",X_test.shape)"
   ]
  },
  {
   "cell_type": "code",
   "execution_count": 25,
   "metadata": {},
   "outputs": [
    {
     "name": "stdout",
     "output_type": "stream",
     "text": [
      "Original:  1,0,1,1,0,0,1,1,1,1,0,1,1,1,1,1,0,0,1,1,0,0,1,0,1,1,0,1,0,1,0,1\n",
      "Predicted: 1,0,1,1,0,0,1,1,1,1,0,1,1,1,1,1,0,0,1,1,0,0,1,0,1,1,0,1,0,1,0,1\n"
     ]
    }
   ],
   "source": [
    "#show actual and predicted value\n",
    "pred = model.predict(X_test)\n",
    "pred = [1 if y>=0.5 else 0 for y in pred]\n",
    "\n",
    "print('Original:  {0}'.format(\",\".join(str(x) for x in Y_test)))\n",
    "print('Predicted: {0}'.format(\",\".join(str(x) for x in pred)))"
   ]
  },
  {
   "cell_type": "markdown",
   "metadata": {},
   "source": [
    "# Logistic Regression"
   ]
  },
  {
   "cell_type": "code",
   "execution_count": 26,
   "metadata": {},
   "outputs": [],
   "source": [
    "X = data.iloc[:,:-1]\n",
    "y = data['class']\n",
    "\n",
    "logreg = LogisticRegression(max_iter = 10000)"
   ]
  },
  {
   "cell_type": "code",
   "execution_count": 27,
   "metadata": {},
   "outputs": [],
   "source": [
    "X_train, X_test, y_train, y_test = train_test_split(X,y, stratify = y, shuffle = True)"
   ]
  },
  {
   "cell_type": "code",
   "execution_count": 28,
   "metadata": {},
   "outputs": [
    {
     "data": {
      "text/plain": [
       "LogisticRegression(C=1.0, class_weight=None, dual=False, fit_intercept=True,\n",
       "                   intercept_scaling=1, l1_ratio=None, max_iter=10000,\n",
       "                   multi_class='auto', n_jobs=None, penalty='l2',\n",
       "                   random_state=None, solver='lbfgs', tol=0.0001, verbose=0,\n",
       "                   warm_start=False)"
      ]
     },
     "execution_count": 28,
     "metadata": {},
     "output_type": "execute_result"
    }
   ],
   "source": [
    "logreg.fit(X_train,y_train)"
   ]
  },
  {
   "cell_type": "code",
   "execution_count": 29,
   "metadata": {},
   "outputs": [
    {
     "name": "stdout",
     "output_type": "stream",
     "text": [
      "Train Accuracy:  1.0\n",
      "Test Accuracy:  1.0\n"
     ]
    }
   ],
   "source": [
    "test_pred = logreg.predict(X_test)\n",
    "train_pred = logreg.predict(X_train)\n",
    "\n",
    "print('Train Accuracy: ', accuracy_score(y_train, train_pred))\n",
    "print('Test Accuracy: ', accuracy_score(y_test, test_pred))"
   ]
  },
  {
   "cell_type": "code",
   "execution_count": 30,
   "metadata": {},
   "outputs": [
    {
     "name": "stdout",
     "output_type": "stream",
     "text": [
      "True Neg: 11\n",
      "False Pos: 0\n",
      "False Neg: 0\n",
      "True Pos: 29\n"
     ]
    }
   ],
   "source": [
    "tn, fp, fn, tp = confusion_matrix(y_test, test_pred).ravel()\n",
    "\n",
    "print(f'True Neg: {tn}')\n",
    "print(f'False Pos: {fp}')\n",
    "print(f'False Neg: {fn}')\n",
    "print(f'True Pos: {tp}')"
   ]
  },
  {
   "cell_type": "code",
   "execution_count": 31,
   "metadata": {},
   "outputs": [
    {
     "name": "stdout",
     "output_type": "stream",
     "text": [
      "              precision    recall  f1-score   support\n",
      "\n",
      "           0       1.00      1.00      1.00        11\n",
      "           1       1.00      1.00      1.00        29\n",
      "\n",
      "    accuracy                           1.00        40\n",
      "   macro avg       1.00      1.00      1.00        40\n",
      "weighted avg       1.00      1.00      1.00        40\n",
      "\n"
     ]
    }
   ],
   "source": [
    "print(classification_report(y_test,test_pred))"
   ]
  }
 ],
 "metadata": {
  "kernelspec": {
   "display_name": "Python 3",
   "language": "python",
   "name": "python3"
  },
  "language_info": {
   "codemirror_mode": {
    "name": "ipython",
    "version": 3
   },
   "file_extension": ".py",
   "mimetype": "text/x-python",
   "name": "python",
   "nbconvert_exporter": "python",
   "pygments_lexer": "ipython3",
   "version": "3.7.6"
  }
 },
 "nbformat": 4,
 "nbformat_minor": 4
}
